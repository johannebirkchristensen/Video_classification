{
 "cells": [
  {
   "cell_type": "code",
   "execution_count": 3,
   "metadata": {},
   "outputs": [],
   "source": [
    "from glob import glob\n",
    "import os\n",
    "os.chdir(\"/zhome/b6/d/154958/Video_detection/Video_classification\")\n",
    "import pandas as pd\n",
    "from PIL import Image\n",
    "import torch\n",
    "from torchvision import transforms as T\n",
    "from datasets import FrameImageDataset, FrameVideoDataset\n",
    "from torch.utils.data import DataLoader\n"
   ]
  },
  {
   "cell_type": "code",
   "execution_count": null,
   "metadata": {},
   "outputs": [],
   "source": [
    "\n",
    "\n",
    "transform = T.Compose([T.Resize((64, 64)),T.ToTensor()])\n",
    "frameimage_dataset = FrameImageDataset( split='val', transform=transform)\n",
    "framevideostack_dataset = FrameVideoDataset( split='val', transform=transform, stack_frames = True)\n",
    "framevideolist_dataset = FrameVideoDataset( split='val', transform=transform, stack_frames = False)\n",
    "\n",
    "\n",
    "frameimage_loader = DataLoader(frameimage_dataset,  batch_size=8, shuffle=False)\n",
    "framevideostack_loader = DataLoader(framevideostack_dataset,  batch_size=8, shuffle=False)\n",
    "framevideolist_loader = DataLoader(framevideolist_dataset,  batch_size=8, shuffle=False)\n"
   ]
  }
 ],
 "metadata": {
  "kernelspec": {
   "display_name": "IDLICV_2",
   "language": "python",
   "name": "idlicv_2"
  },
  "language_info": {
   "codemirror_mode": {
    "name": "ipython",
    "version": 3
   },
   "file_extension": ".py",
   "mimetype": "text/x-python",
   "name": "python",
   "nbconvert_exporter": "python",
   "pygments_lexer": "ipython3",
   "version": "3.9.20"
  }
 },
 "nbformat": 4,
 "nbformat_minor": 2
}
