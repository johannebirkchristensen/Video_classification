{
 "cells": [
  {
   "cell_type": "code",
   "execution_count": null,
   "metadata": {},
   "outputs": [
    {
     "ename": "ImportError",
     "evalue": "cannot import name 'frameimage_dataset' from 'datasets' (/zhome/45/0/155089/Deeplearning_in_computer_vision/Video_classification/datasets.py)",
     "output_type": "error",
     "traceback": [
      "\u001b[0;31m---------------------------------------------------------------------------\u001b[0m",
      "\u001b[0;31mImportError\u001b[0m                               Traceback (most recent call last)",
      "Cell \u001b[0;32mIn[4], line 3\u001b[0m\n\u001b[1;32m      1\u001b[0m \u001b[38;5;28;01mimport\u001b[39;00m \u001b[38;5;21;01msys\u001b[39;00m \n\u001b[1;32m      2\u001b[0m sys\u001b[38;5;241m.\u001b[39mpath\u001b[38;5;241m.\u001b[39mappend(\u001b[38;5;124m'\u001b[39m\u001b[38;5;124m/zhome/45/0/155089/Deeplearning_in_computer_vision/Video_classification/datasets.py\u001b[39m\u001b[38;5;124m'\u001b[39m)  \n\u001b[0;32m----> 3\u001b[0m \u001b[38;5;28;01mfrom\u001b[39;00m \u001b[38;5;21;01mdatasets\u001b[39;00m \u001b[38;5;28;01mimport\u001b[39;00m frameimage_dataset\n",
      "\u001b[0;31mImportError\u001b[0m: cannot import name 'frameimage_dataset' from 'datasets' (/zhome/45/0/155089/Deeplearning_in_computer_vision/Video_classification/datasets.py)"
     ]
    }
   ],
   "source": [
    "\n",
    "import sys \n",
    "sys.path.append('/zhome/45/0/155089/Deeplearning_in_computer_vision/Video_classification/datasets.py')  \n",
    "\n",
    "from datasets import frameimage_dataset"
   ]
  },
  {
   "cell_type": "code",
   "execution_count": null,
   "metadata": {},
   "outputs": [],
   "source": [
    "from kør import FrameImageDataset, FrameVideoDataset\n",
    "from torch.utils.data import DataLoader\n",
    "import torchvision.transforms as T\n",
    "import matplotlib.pyplot as plt"
   ]
  },
  {
   "cell_type": "code",
   "execution_count": null,
   "metadata": {},
   "outputs": [],
   "source": []
  },
  {
   "cell_type": "code",
   "execution_count": null,
   "metadata": {},
   "outputs": [],
   "source": [
    "\n",
    "\n",
    "\n",
    "\n",
    "class EncDec(nn.Module):\n",
    "    def __init__(self):\n",
    "        super().__init__()\n",
    "\n",
    "        # encoder (downsampling)\n",
    "        self.enc_conv0 = nn.Conv2d(3, 64, 3, padding=1)\n",
    "        self.bn_enc0 = nn.BatchNorm2d(64)\n",
    "        self.pool0 = nn.MaxPool2d(2, 2)  # 128 -> 64              \n",
    "        \n",
    "        self.enc_conv1 = nn.Conv2d(64, 128, 3, padding=1)\n",
    "        self.bn_enc1 = nn.BatchNorm2d(128)\n",
    "        self.pool1 = nn.MaxPool2d(2, 2)  # 64 -> 32                         \n",
    "        \n",
    "        self.enc_conv2 = nn.Conv2d(128, 256, 3, padding=1)\n",
    "        self.bn_enc2 = nn.BatchNorm2d(256)\n",
    "        self.pool2 = nn.MaxPool2d(2, 2)  # 32 -> 16                             \n",
    "        \n",
    "        self.enc_conv3 = nn.Conv2d(256, 512, 3, padding=1)\n",
    "        self.bn_enc3 = nn.BatchNorm2d(512)\n",
    "        self.pool3 = nn.MaxPool2d(2, 2)  # 16 -> 8                               \n",
    "    def forward(self, x):\n",
    "        # encoder\n",
    "        e0 = self.pool0(F.relu(self.bn_enc0(self.enc_conv0(x))))\n",
    "        e1 = self.pool1(F.relu(self.bn_enc1(self.enc_conv1(e0))))\n",
    "        e2 = self.pool2(F.relu(self.bn_enc2(self.enc_conv2(e1))))\n",
    "        e3 = self.pool3(F.relu(self.bn_enc3(self.enc_conv3(e2))))\n",
    "\n",
    "        return e3\n",
    "\n",
    "\n",
    "model = EncDec().to(device)"
   ]
  }
 ],
 "metadata": {
  "kernelspec": {
   "display_name": "venv",
   "language": "python",
   "name": "python3"
  },
  "language_info": {
   "codemirror_mode": {
    "name": "ipython",
    "version": 3
   },
   "file_extension": ".py",
   "mimetype": "text/x-python",
   "name": "python",
   "nbconvert_exporter": "python",
   "pygments_lexer": "ipython3",
   "version": "3.9.18"
  }
 },
 "nbformat": 4,
 "nbformat_minor": 2
}
